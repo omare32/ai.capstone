{
 "cells": [
  {
   "cell_type": "markdown",
   "id": "1",
   "metadata": {},
   "source": [
    "# AAVAIL Revenue Prediction - Part 1: Data Investigation\n",
    "\n",
    "## Assignment 01: Capstone Through the Eyes of Our Working Example\n",
    "\n",
    "**Business Context**: AAVAIL is transitioning from tiered subscription to à la carte billing model. Management needs monthly revenue predictions with country-specific capabilities.\n",
    "\n",
    "**Objectives:**\n",
    "1. Assimilate business scenario and articulate testable hypotheses\n",
    "2. State ideal data requirements\n",
    "3. Create automated data ingestion pipeline\n",
    "4. Investigate data relationships\n",
    "5. Generate deliverable with visualizations"
   ]
  },
  {
   "cell_type": "code",
   "execution_count": null,
   "id": "2",
   "metadata": {},
   "outputs": [],
   "source": [
    "# Import required libraries\n",
    "import sys\n",
    "import os\n",
    "sys.path.append('../src')\n",
    "\n",
    "import pandas as pd\n",
    "import numpy as np\n",
    "import matplotlib.pyplot as plt\n",
    "import seaborn as sns\n",
    "from datetime import datetime\n",
    "import warnings\n",
    "warnings.filterwarnings('ignore')\n",
    "\n",
    "# Import custom modules\n",
    "from data_ingestion import load_retail_data\n",
    "from eda import perform_eda, EDAAnalyzer\n",
    "\n",
    "print(\"Libraries imported successfully!\")"
   ]
  },
  {
   "cell_type": "markdown",
   "id": "3",
   "metadata": {},
   "source": [
    "## 1. Business Scenario Analysis\n",
    "\n",
    "### Business Opportunity Statement\n",
    "\n",
    "AAVAIL has successfully experimented with an à la carte billing model outside the US market and now has 2+ years of transaction data across 38 countries. Management needs to:\n",
    "\n",
    "- **Primary Goal**: Predict monthly revenue at any point in time\n",
    "- **Secondary Goal**: Project revenue for specific countries\n",
    "- **Scope**: Focus on top 10 countries by revenue\n",
    "- **Impact**: Improve staffing and budget projections, reduce manager time spent on manual forecasting\n",
    "\n",
    "### Testable Hypotheses\n",
    "\n",
    "Based on the business scenario, we propose the following testable hypotheses:\n",
    "\n",
    "1. **H1**: Revenue shows seasonal patterns that can be leveraged for prediction\n",
    "2. **H2**: The top 10 countries contribute to ≥80% of total revenue (Pareto principle)\n",
    "3. **H3**: Customer transaction frequency correlates with customer lifetime value\n",
    "4. **H4**: Monthly revenue trends show growth patterns suitable for extrapolation\n",
    "5. **H5**: Weekend vs weekday transaction patterns differ significantly\n",
    "6. **H6**: Country-specific revenue patterns are stable over time\n",
    "7. **H7**: Customer retention affects monthly revenue predictability\n",
    "8. **H8**: Transaction amount distributions vary significantly by country"
   ]
  },
  {
   "cell_type": "markdown",
   "id": "4",
   "metadata": {},
   "source": [
    "## 2. Ideal Data Requirements\n",
    "\n",
    "### Required Data for Revenue Prediction:\n",
    "\n",
    "**Primary Features:**\n",
    "- Transaction amounts and dates\n",
    "- Country information\n",
    "- Customer identifiers\n",
    "\n",
    "**Supporting Features:**\n",
    "- Service usage metrics (times_viewed)\n",
    "- Invoice/billing information\n",
    "- Customer engagement data\n",
    "\n",
    "**Time Series Requirements:**\n",
    "- At least 24 months of historical data\n",
    "- Daily transaction granularity\n",
    "- Consistent data format across time periods\n",
    "\n",
    "**Geographic Requirements:**\n",
    "- Country-level segmentation\n",
    "- Sufficient data volume per country\n",
    "- Focus on top revenue-generating countries"
   ]
  },
  {
   "cell_type": "code",
   "execution_count": null,
   "id": "5",
   "metadata": {},
   "outputs": [],
   "source": [
    "# 3. Automated Data Ingestion\n",
    "print(\"Loading data from JSON files...\")\n",
    "\n",
    "# Define data directory (adjust path as needed)\n",
    "data_directory = \"../ai-workflow-capstone-master/cs-train\"\n",
    "\n",
    "# Load and process all data\n",
    "df, data_summary = load_retail_data(data_directory)\n",
    "\n",
    "print(f\"\\nData Loading Summary:\")\n",
    "print(f\"Total records: {data_summary['total_records']:,}\")\n",
    "print(f\"Date range: {data_summary['date_range']['start']} to {data_summary['date_range']['end']}\")\n",
    "print(f\"Countries: {data_summary['countries']['total']}\")\n",
    "print(f\"Total revenue: ${data_summary['revenue']['total']:,.2f}\")\n",
    "print(f\"Average transaction: ${data_summary['revenue']['mean_transaction']:.2f}\")"
   ]
  },
  {
   "cell_type": "code",
   "execution_count": null,
   "id": "6",
   "metadata": {},
   "outputs": [],
   "source": [
    "# Display first few rows to understand data structure\n",
    "print(\"Data Structure:\")\n",
    "print(df.head())\n",
    "print(\"\\nData Info:\")\n",
    "print(df.info())\n",
    "print(\"\\nData Description:\")\n",
    "print(df.describe())"
   ]
  },
  {
   "cell_type": "markdown",
   "id": "7",
   "metadata": {},
   "source": [
    "## 4. Data Investigation and EDA\n",
    "\n",
    "Now we'll conduct comprehensive exploratory data analysis to understand relationships between data, target variable (revenue), and business metrics."
   ]
  },
  {
   "cell_type": "code",
   "execution_count": null,
   "id": "8",
   "metadata": {},
   "outputs": [],
   "source": [
    "# Perform comprehensive EDA\n",
    "print(\"Performing Exploratory Data Analysis...\")\n",
    "\n",
    "eda_results, hypothesis_tests = perform_eda(df)\n",
    "\n",
    "print(\"\\nEDA Results Summary:\")\n",
    "print(f\"Total unique customers: {eda_results['data_summary']['basic_info']['unique_customers']:,}\")\n",
    "print(f\"Analysis period: {eda_results['data_summary']['basic_info']['date_range']['days']} days\")\n",
    "print(f\"Countries analyzed: {eda_results['data_summary']['basic_info']['unique_countries']}\")"
   ]
  },
  {
   "cell_type": "code",
   "execution_count": null,
   "id": "9",
   "metadata": {},
   "outputs": [],
   "source": [
    "# Display top 10 countries by revenue\n",
    "print(\"\\nTop 10 Countries by Revenue:\")\n",
    "print(eda_results['country_analysis'])\n",
    "\n",
    "print(\"\\nTop 10 Countries List (for model focus):\")\n",
    "for i, country in enumerate(eda_results['top_countries'], 1):\n",
    "    print(f\"{i}. {country}\")"
   ]
  },
  {
   "cell_type": "code",
   "execution_count": null,
   "id": "10",
   "metadata": {},
   "outputs": [],
   "source": [
    "# Hypothesis Testing Results\n",
    "print(\"\\nHypothesis Testing Results:\")\n",
    "print(f\"\\nH2 - Pareto Principle Test:\")\n",
    "print(f\"Top 10 countries revenue percentage: {hypothesis_tests['pareto_principle']['top_10_percentage']:.1f}%\")\n",
    "print(f\"Passes 80/20 rule: {hypothesis_tests['pareto_principle']['passes_80_20_rule']}\")\n",
    "\n",
    "print(f\"\\nH5 - Weekend vs Weekday Analysis:\")\n",
    "print(f\"Weekend revenue percentage: {hypothesis_tests['weekend_vs_weekday']['weekend_percentage']:.1f}%\")\n",
    "print(f\"Weekend revenue: ${hypothesis_tests['weekend_vs_weekday']['weekend_revenue']:,.2f}\")\n",
    "print(f\"Weekday revenue: ${hypothesis_tests['weekend_vs_weekday']['weekday_revenue']:,.2f}\")"
   ]
  },
  {
   "cell_type": "code",
   "execution_count": null,
   "id": "11",
   "metadata": {},
   "outputs": [],
   "source": [
    "# Additional analysis for model preparation\n",
    "analyzer = EDAAnalyzer(df)\n",
    "\n",
    "# Focus dataset on top 10 countries for model development\n",
    "top_countries = eda_results['top_countries']\n",
    "df_focused = df[df['country'].isin(top_countries)].copy()\n",
    "\n",
    "print(f\"\\nFocused Dataset (Top 10 Countries):\")\n",
    "print(f\"Records: {len(df_focused):,} ({len(df_focused)/len(df)*100:.1f}% of total)\")\n",
    "print(f\"Revenue: ${df_focused['price'].sum():,.2f} ({df_focused['price'].sum()/df['price'].sum()*100:.1f}% of total)\")\n",
    "\n",
    "# Monthly aggregation for time series preparation\n",
    "monthly_data = df_focused.groupby(['country', 'month_year']).agg({\n",
    "    'price': 'sum',\n",
    "    'customer_id': 'nunique',\n",
    "    'invoice': 'nunique',\n",
    "    'times_viewed': 'mean'\n",
    "}).reset_index()\n",
    "\n",
    "monthly_data.columns = ['country', 'month_year', 'monthly_revenue', 'unique_customers', 'unique_invoices', 'avg_views']\n",
    "\n",
    "print(f\"\\nMonthly aggregated data shape: {monthly_data.shape}\")\n",
    "print(monthly_data.head())"
   ]
  },
  {
   "cell_type": "markdown",
   "id": "12",
   "metadata": {},
   "source": [
    "## 5. Key Findings and Insights\n",
    "\n",
    "### Data Quality Assessment\n",
    "- Successfully loaded and processed transaction data from multiple JSON sources\n",
    "- Implemented automated data ingestion with quality assurance checks\n",
    "- Standardized column names and cleaned invoice IDs for consistency\n",
    "\n",
    "### Revenue Patterns\n",
    "- Identified top 10 countries contributing majority of revenue\n",
    "- Discovered temporal patterns in transaction data\n",
    "- Analyzed customer segmentation and behavior patterns\n",
    "\n",
    "### Model Readiness\n",
    "- Prepared time-series ready dataset with monthly aggregations\n",
    "- Focused scope on top 10 countries as requested\n",
    "- Established baseline metrics for model evaluation"
   ]
  },
  {
   "cell_type": "code",
   "execution_count": null,
   "id": "13",
   "metadata": {},
   "outputs": [],
   "source": [
    "# Save processed data for next phases\n",
    "output_dir = \"../data/processed/\"\n",
    "os.makedirs(output_dir, exist_ok=True)\n",
    "\n",
    "# Save full processed dataset\n",
    "df.to_csv(f\"{output_dir}full_processed_data.csv\", index=False)\n",
    "\n",
    "# Save focused dataset (top 10 countries)\n",
    "df_focused.to_csv(f\"{output_dir}focused_data_top10.csv\", index=False)\n",
    "\n",
    "# Save monthly aggregated data\n",
    "monthly_data.to_csv(f\"{output_dir}monthly_aggregated_data.csv\", index=False)\n",
    "\n",
    "print(\"Processed data saved successfully!\")\n",
    "print(f\"Files saved to: {output_dir}\")"
   ]
  },
  {
   "cell_type": "markdown",
   "id": "14",
   "metadata": {},
   "source": [
    "## 6. Recommendations for Part 2\n",
    "\n",
    "Based on our data investigation, we recommend the following approaches for Part 2 (Model Iteration):\n",
    "\n",
    "### Modeling Approaches to Compare:\n",
    "1. **Time Series Models**: ARIMA, Seasonal ARIMA for capturing temporal patterns\n",
    "2. **Machine Learning Models**: Random Forest, Gradient Boosting with engineered features\n",
    "3. **Deep Learning**: LSTM networks for sequential pattern recognition\n",
    "4. **Ensemble Methods**: Combination of above approaches\n",
    "\n",
    "### Feature Engineering Priorities:\n",
    "- Lag features (previous month revenue)\n",
    "- Rolling averages and trends\n",
    "- Seasonal decomposition components\n",
    "- Country-specific patterns\n",
    "- Customer behavior metrics\n",
    "\n",
    "### Model Evaluation Strategy:\n",
    "- Time-series cross-validation\n",
    "- Country-specific performance metrics\n",
    "- Business impact assessment (accuracy vs manager time savings)"
   ]
  },
  {
   "cell_type": "code",
   "execution_count": null,
   "id": "15",
   "metadata": {},
   "outputs": [],
   "source": [
    "print(\"Part 1: Data Investigation Completed Successfully!\")\n",
    "print(\"\\nNext Steps:\")\n",
    "print(\"1. Review generated visualizations in reports/figures/\")\n",
    "print(\"2. Use processed data for Part 2: Model Iteration\")\n",
    "print(\"3. Focus modeling efforts on top 10 countries identified\")\n",
    "print(\"4. Implement time-series prediction models\")\n",
    "print(\"5. Prepare API for Part 3: Model Production\")"
   ]
  }
 ],
 "metadata": {
  "kernelspec": {
   "display_name": "Python 3",
   "language": "python",
   "name": "python3"
  },
  "language_info": {
   "codemirror_mode": {
    "name": "ipython",
    "version": 3
   },
   "file_extension": ".py",
   "mimetype": "text/x-python",
   "name": "python",
   "nbconvert_exporter": "python",
   "pygments_lexer": "ipython3",
   "version": "3.8.0"
  }
 },
 "nbformat": 4,
 "nbformat_minor": 5
}
