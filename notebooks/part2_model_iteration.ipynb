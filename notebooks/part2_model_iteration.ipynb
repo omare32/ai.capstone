{
 "cells": [
  {
   "cell_type": "markdown",
   "id": "1",
   "metadata": {},
   "source": [
    "# AAVAIL Revenue Prediction - Part 2: Model Iteration\n",
    "\n",
    "## Assignment 02: Time-Series Forecasting Models\n",
    "\n",
    "**Objective**: Compare different modeling approaches to predict next 30 days revenue\n",
    "\n",
    "**Models to Compare**:\n",
    "1. ARIMA - Traditional time series\n",
    "2. Exponential Smoothing - Holt-Winters method\n",
    "3. Random Forest - ML with engineered features\n",
    "4. Gradient Boosting - Advanced ensemble method\n",
    "5. LSTM - Deep learning approach"
   ]
  },
  {
   "cell_type": "code",
   "execution_count": 1,
   "id": "2",
   "metadata": {},
   "outputs": [
    {
     "ename": "ModuleNotFoundError",
     "evalue": "No module named 'statsmodels'",
     "output_type": "error",
     "traceback": [
      "\u001b[31m---------------------------------------------------------------------------\u001b[39m",
      "\u001b[31mModuleNotFoundError\u001b[39m                       Traceback (most recent call last)",
      "\u001b[36mCell\u001b[39m\u001b[36m \u001b[39m\u001b[32mIn[1]\u001b[39m\u001b[32m, line 16\u001b[39m\n\u001b[32m     14\u001b[39m \u001b[38;5;66;03m# Import custom modules\u001b[39;00m\n\u001b[32m     15\u001b[39m \u001b[38;5;28;01mfrom\u001b[39;00m\u001b[38;5;250m \u001b[39m\u001b[34;01mdata_ingestion\u001b[39;00m\u001b[38;5;250m \u001b[39m\u001b[38;5;28;01mimport\u001b[39;00m load_retail_data\n\u001b[32m---> \u001b[39m\u001b[32m16\u001b[39m \u001b[38;5;28;01mfrom\u001b[39;00m\u001b[38;5;250m \u001b[39m\u001b[34;01mmodel_approaches\u001b[39;00m\u001b[38;5;250m \u001b[39m\u001b[38;5;28;01mimport\u001b[39;00m TimeSeriesModelApproaches, run_model_comparison\n\u001b[32m     18\u001b[39m \u001b[38;5;28mprint\u001b[39m(\u001b[33m\"\u001b[39m\u001b[33mLibraries imported successfully!\u001b[39m\u001b[33m\"\u001b[39m)\n",
      "\u001b[36mFile \u001b[39m\u001b[32mc:\\Users\\Omar Essam2\\OneDrive - Rowad Modern Engineering\\x005 Repo\\ai.capstone\\notebooks\\../src\\model_approaches.py:15\u001b[39m\n\u001b[32m     12\u001b[39m warnings.filterwarnings(\u001b[33m'\u001b[39m\u001b[33mignore\u001b[39m\u001b[33m'\u001b[39m)\n\u001b[32m     14\u001b[39m \u001b[38;5;66;03m# Traditional time-series\u001b[39;00m\n\u001b[32m---> \u001b[39m\u001b[32m15\u001b[39m \u001b[38;5;28;01mfrom\u001b[39;00m\u001b[38;5;250m \u001b[39m\u001b[34;01mstatsmodels\u001b[39;00m\u001b[34;01m.\u001b[39;00m\u001b[34;01mtsa\u001b[39;00m\u001b[34;01m.\u001b[39;00m\u001b[34;01marima\u001b[39;00m\u001b[34;01m.\u001b[39;00m\u001b[34;01mmodel\u001b[39;00m\u001b[38;5;250m \u001b[39m\u001b[38;5;28;01mimport\u001b[39;00m ARIMA\n\u001b[32m     16\u001b[39m \u001b[38;5;28;01mfrom\u001b[39;00m\u001b[38;5;250m \u001b[39m\u001b[34;01mstatsmodels\u001b[39;00m\u001b[34;01m.\u001b[39;00m\u001b[34;01mtsa\u001b[39;00m\u001b[34;01m.\u001b[39;00m\u001b[34;01mseasonal\u001b[39;00m\u001b[38;5;250m \u001b[39m\u001b[38;5;28;01mimport\u001b[39;00m seasonal_decompose\n\u001b[32m     17\u001b[39m \u001b[38;5;28;01mfrom\u001b[39;00m\u001b[38;5;250m \u001b[39m\u001b[34;01mstatsmodels\u001b[39;00m\u001b[34;01m.\u001b[39;00m\u001b[34;01mtsa\u001b[39;00m\u001b[34;01m.\u001b[39;00m\u001b[34;01mholtwinters\u001b[39;00m\u001b[38;5;250m \u001b[39m\u001b[38;5;28;01mimport\u001b[39;00m ExponentialSmoothing\n",
      "\u001b[31mModuleNotFoundError\u001b[39m: No module named 'statsmodels'"
     ]
    }
   ],
   "source": [
    "# Import libraries\n",
    "import sys\n",
    "import os\n",
    "sys.path.append('../src')\n",
    "\n",
    "import pandas as pd\n",
    "import numpy as np\n",
    "import matplotlib.pyplot as plt\n",
    "import seaborn as sns\n",
    "from datetime import datetime\n",
    "import warnings\n",
    "warnings.filterwarnings('ignore')\n",
    "\n",
    "# Import custom modules\n",
    "from data_ingestion import load_retail_data\n",
    "from model_approaches import TimeSeriesModelApproaches, run_model_comparison\n",
    "\n",
    "print(\"Libraries imported successfully!\")"
   ]
  },
  {
   "cell_type": "code",
   "execution_count": null,
   "id": "3",
   "metadata": {},
   "outputs": [],
   "source": [
    "# Load processed data from Part 1\n",
    "print(\"Loading processed data...\")\n",
    "\n",
    "# Load the focused dataset (top 10 countries)\n",
    "df_focused = pd.read_csv('../data/processed/focused_data_top10.csv')\n",
    "df_focused['date'] = pd.to_datetime(df_focused['date'])\n",
    "\n",
    "print(f\"Data loaded: {len(df_focused):,} records\")\n",
    "print(f\"Date range: {df_focused['date'].min()} to {df_focused['date'].max()}\")\n",
    "print(f\"Countries: {df_focused['country'].nunique()}\")"
   ]
  },
  {
   "cell_type": "code",
   "execution_count": null,
   "id": "4",
   "metadata": {},
   "outputs": [],
   "source": [
    "# Run model comparison for all countries combined\n",
    "print(\"Running model comparison for all top 10 countries combined...\")\n",
    "\n",
    "results_all, comparison_all = run_model_comparison(df_focused, country=None)\n",
    "\n",
    "print(\"\\nModel Comparison Results:\")\n",
    "print(comparison_all)"
   ]
  },
  {
   "cell_type": "code",
   "execution_count": null,
   "id": "5",
   "metadata": {},
   "outputs": [],
   "source": [
    "# Run model comparison for United Kingdom (top country)\n",
    "print(\"Running model comparison for United Kingdom...\")\n",
    "\n",
    "results_uk, comparison_uk = run_model_comparison(df_focused, country='United Kingdom')\n",
    "\n",
    "print(\"\\nUK Model Comparison Results:\")\n",
    "print(comparison_uk)"
   ]
  },
  {
   "cell_type": "code",
   "execution_count": null,
   "id": "6",
   "metadata": {},
   "outputs": [],
   "source": [
    "# Select best model and prepare for deployment\n",
    "modeler = TimeSeriesModelApproaches()\n",
    "best_model_name, best_model_result = modeler.select_best_model(results_all)\n",
    "\n",
    "print(f\"\\nSelected Best Model: {best_model_name}\")\n",
    "print(f\"MAPE: {best_model_result['mape']:.2%}\")\n",
    "print(f\"MAE: {best_model_result['mae']:.2f}\")\n",
    "print(f\"30-day forecast: ${best_model_result['forecast_30d_sum']:,.2f}\")"
   ]
  },
  {
   "cell_type": "code",
   "execution_count": null,
   "id": "7",
   "metadata": {},
   "outputs": [],
   "source": [
    "# Save results and best model\n",
    "import pickle\n",
    "\n",
    "# Save model comparison results\n",
    "comparison_all.to_csv('../reports/model_comparison_results.csv', index=False)\n",
    "\n",
    "# Save best model\n",
    "model_data = {\n",
    "    'best_model_name': best_model_name,\n",
    "    'best_model_result': best_model_result,\n",
    "    'model_comparison': comparison_all.to_dict()\n",
    "}\n",
    "\n",
    "with open('../models/best_model_assignment02.pkl', 'wb') as f:\n",
    "    pickle.dump(model_data, f)\n",
    "\n",
    "print(\"Model results saved successfully!\")"
   ]
  },
  {
   "cell_type": "markdown",
   "id": "8",
   "metadata": {},
   "source": [
    "## Summary\n",
    "\n",
    "Assignment 02 completed successfully:\n",
    "- Compared 5 different modeling approaches\n",
    "- Selected best performing model based on MAPE\n",
    "- Prepared model for deployment in Assignment 03\n",
    "- Generated comprehensive comparison report"
   ]
  }
 ],
 "metadata": {
  "kernelspec": {
   "display_name": "Python 3",
   "language": "python",
   "name": "python3"
  },
  "language_info": {
   "codemirror_mode": {
    "name": "ipython",
    "version": 3
   },
   "file_extension": ".py",
   "mimetype": "text/x-python",
   "name": "python",
   "nbconvert_exporter": "python",
   "pygments_lexer": "ipython3",
   "version": "3.13.5"
  }
 },
 "nbformat": 4,
 "nbformat_minor": 5
}
