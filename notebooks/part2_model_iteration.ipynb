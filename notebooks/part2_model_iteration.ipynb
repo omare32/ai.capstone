{
 "cells": [
  {
   "cell_type": "markdown",
   "id": "1",
   "metadata": {},
   "source": [
    "# AAVAIL Revenue Prediction - Part 2: Model Iteration\n",
    "\n",
    "## Assignment 02: Time-Series Forecasting Models\n",
    "\n",
    "**Objective**: Compare different modeling approaches to predict next 30 days revenue\n",
    "\n",
    "**Models to Compare**:\n",
    "1. ARIMA - Traditional time series\n",
    "2. Exponential Smoothing - Holt-Winters method\n",
    "3. Random Forest - ML with engineered features\n",
    "4. Gradient Boosting - Advanced ensemble method\n",
    "5. LSTM - Deep learning approach"
   ]
  },
  {
   "cell_type": "code",
   "execution_count": 1,
   "id": "2",
   "metadata": {},
   "outputs": [
    {
     "name": "stdout",
     "output_type": "stream",
     "text": [
      "TensorFlow not available. LSTM models will be skipped.\n",
      "Libraries imported successfully!\n"
     ]
    }
   ],
   "source": [
    "# Import libraries\n",
    "import sys\n",
    "import os\n",
    "sys.path.append('../src')\n",
    "\n",
    "import pandas as pd\n",
    "import numpy as np\n",
    "import matplotlib.pyplot as plt\n",
    "import seaborn as sns\n",
    "from datetime import datetime\n",
    "import warnings\n",
    "warnings.filterwarnings('ignore')\n",
    "\n",
    "# Import custom modules\n",
    "from data_ingestion import load_retail_data\n",
    "from model_approaches import TimeSeriesModelApproaches, run_model_comparison\n",
    "\n",
    "print(\"Libraries imported successfully!\")"
   ]
  },
  {
   "cell_type": "code",
   "execution_count": 2,
   "id": "3",
   "metadata": {},
   "outputs": [
    {
     "name": "stdout",
     "output_type": "stream",
     "text": [
      "Loading processed data...\n",
      "Data loaded: 797,424 records\n",
      "Date range: 2017-11-28 00:00:00 to 2019-07-31 00:00:00\n",
      "Countries: 10\n"
     ]
    }
   ],
   "source": [
    "# Load processed data from Part 1\n",
    "print(\"Loading processed data...\")\n",
    "\n",
    "# Load the focused dataset (top 10 countries)\n",
    "df_focused = pd.read_csv('../data/processed/focused_data_top10.csv')\n",
    "df_focused['date'] = pd.to_datetime(df_focused['date'])\n",
    "\n",
    "print(f\"Data loaded: {len(df_focused):,} records\")\n",
    "print(f\"Date range: {df_focused['date'].min()} to {df_focused['date'].max()}\")\n",
    "print(f\"Countries: {df_focused['country'].nunique()}\")"
   ]
  },
  {
   "cell_type": "code",
   "execution_count": 3,
   "id": "4",
   "metadata": {},
   "outputs": [
    {
     "name": "stdout",
     "output_type": "stream",
     "text": [
      "Running model comparison for all top 10 countries combined...\n"
     ]
    },
    {
     "name": "stderr",
     "output_type": "stream",
     "text": [
      "INFO:model_approaches:Comparing all modeling approaches...\n",
      "INFO:model_approaches:Training ARIMA model...\n",
      "C:\\Users\\Omar Essam2\\AppData\\Roaming\\Python\\Python313\\site-packages\\statsmodels\\tsa\\base\\tsa_model.py:473: ValueWarning: No frequency information was provided, so inferred frequency D will be used.\n",
      "  self._init_dates(dates, freq)\n",
      "C:\\Users\\Omar Essam2\\AppData\\Roaming\\Python\\Python313\\site-packages\\statsmodels\\tsa\\base\\tsa_model.py:473: ValueWarning: No frequency information was provided, so inferred frequency D will be used.\n",
      "  self._init_dates(dates, freq)\n",
      "C:\\Users\\Omar Essam2\\AppData\\Roaming\\Python\\Python313\\site-packages\\statsmodels\\tsa\\base\\tsa_model.py:473: ValueWarning: No frequency information was provided, so inferred frequency D will be used.\n",
      "  self._init_dates(dates, freq)\n",
      "INFO:model_approaches:ARIMA - MAE: 3646.12, MAPE: 431539536298399170560.00%\n",
      "INFO:model_approaches:Training Exponential Smoothing model...\n",
      "C:\\Users\\Omar Essam2\\AppData\\Roaming\\Python\\Python313\\site-packages\\statsmodels\\tsa\\base\\tsa_model.py:473: ValueWarning: No frequency information was provided, so inferred frequency D will be used.\n",
      "  self._init_dates(dates, freq)\n",
      "INFO:model_approaches:Exponential Smoothing - MAE: 2950.15, MAPE: 197289858494560239616.00%\n",
      "INFO:model_approaches:Training Random Forest model...\n",
      "INFO:model_approaches:Random Forest - MAE: 29701.88, MAPE: 18.87%\n",
      "INFO:model_approaches:Training Gradient Boosting model...\n",
      "INFO:model_approaches:Gradient Boosting - MAE: 27620.84, MAPE: 16.80%\n"
     ]
    },
    {
     "name": "stdout",
     "output_type": "stream",
     "text": [
      "\n",
      "Model Comparison Results:\n",
      "                   Model   Status                     Error           MAE  \\\n",
      "0                  ARIMA  Success                      None   3646.119383   \n",
      "1  Exponential Smoothing  Success                      None   2950.152584   \n",
      "2          Random Forest  Success                      None  29701.878711   \n",
      "3      Gradient Boosting  Success                      None  27620.836198   \n",
      "4                   LSTM   Failed  TensorFlow not available           NaN   \n",
      "\n",
      "           MAPE   Forecast_30d  \n",
      "0  4.315395e+18  153418.290627  \n",
      "1  1.972899e+18  161380.566822  \n",
      "2  1.886887e-01  203432.217070  \n",
      "3  1.679624e-01  210383.922274  \n",
      "4           NaN            NaN  \n"
     ]
    }
   ],
   "source": [
    "# Run model comparison for all countries combined\n",
    "print(\"Running model comparison for all top 10 countries combined...\")\n",
    "\n",
    "results_all, comparison_all = run_model_comparison(df_focused, country=None)\n",
    "\n",
    "print(\"\\nModel Comparison Results:\")\n",
    "print(comparison_all)"
   ]
  },
  {
   "cell_type": "code",
   "execution_count": 4,
   "id": "5",
   "metadata": {},
   "outputs": [
    {
     "name": "stdout",
     "output_type": "stream",
     "text": [
      "Running model comparison for United Kingdom...\n"
     ]
    },
    {
     "name": "stderr",
     "output_type": "stream",
     "text": [
      "INFO:model_approaches:Comparing all modeling approaches...\n",
      "INFO:model_approaches:Training ARIMA model...\n",
      "C:\\Users\\Omar Essam2\\AppData\\Roaming\\Python\\Python313\\site-packages\\statsmodels\\tsa\\base\\tsa_model.py:473: ValueWarning: No frequency information was provided, so inferred frequency D will be used.\n",
      "  self._init_dates(dates, freq)\n",
      "C:\\Users\\Omar Essam2\\AppData\\Roaming\\Python\\Python313\\site-packages\\statsmodels\\tsa\\base\\tsa_model.py:473: ValueWarning: No frequency information was provided, so inferred frequency D will be used.\n",
      "  self._init_dates(dates, freq)\n",
      "C:\\Users\\Omar Essam2\\AppData\\Roaming\\Python\\Python313\\site-packages\\statsmodels\\tsa\\base\\tsa_model.py:473: ValueWarning: No frequency information was provided, so inferred frequency D will be used.\n",
      "  self._init_dates(dates, freq)\n",
      "INFO:model_approaches:ARIMA - MAE: 3292.43, MAPE: 394184826171644706816.00%\n",
      "INFO:model_approaches:Training Exponential Smoothing model...\n",
      "C:\\Users\\Omar Essam2\\AppData\\Roaming\\Python\\Python313\\site-packages\\statsmodels\\tsa\\base\\tsa_model.py:473: ValueWarning: No frequency information was provided, so inferred frequency D will be used.\n",
      "  self._init_dates(dates, freq)\n",
      "INFO:model_approaches:Exponential Smoothing - MAE: 2678.15, MAPE: 182521965313144586240.00%\n",
      "INFO:model_approaches:Training Random Forest model...\n",
      "INFO:model_approaches:Random Forest - MAE: 28796.77, MAPE: 20.30%\n",
      "INFO:model_approaches:Training Gradient Boosting model...\n",
      "INFO:model_approaches:Gradient Boosting - MAE: 29612.17, MAPE: 20.20%\n"
     ]
    },
    {
     "name": "stdout",
     "output_type": "stream",
     "text": [
      "\n",
      "UK Model Comparison Results:\n",
      "                   Model   Status                     Error           MAE  \\\n",
      "0                  ARIMA  Success                      None   3292.432805   \n",
      "1  Exponential Smoothing  Success                      None   2678.151864   \n",
      "2          Random Forest  Success                      None  28796.769739   \n",
      "3      Gradient Boosting  Success                      None  29612.169329   \n",
      "4                   LSTM   Failed  TensorFlow not available           NaN   \n",
      "\n",
      "           MAPE   Forecast_30d  \n",
      "0  3.941848e+18  140096.105287  \n",
      "1  1.825220e+18  149368.327368  \n",
      "2  2.029795e-01  173196.658140  \n",
      "3  2.019814e-01  162068.271426  \n",
      "4           NaN            NaN  \n"
     ]
    }
   ],
   "source": [
    "# Run model comparison for United Kingdom (top country)\n",
    "print(\"Running model comparison for United Kingdom...\")\n",
    "\n",
    "results_uk, comparison_uk = run_model_comparison(df_focused, country='United Kingdom')\n",
    "\n",
    "print(\"\\nUK Model Comparison Results:\")\n",
    "print(comparison_uk)"
   ]
  },
  {
   "cell_type": "code",
   "execution_count": 5,
   "id": "6",
   "metadata": {},
   "outputs": [
    {
     "name": "stderr",
     "output_type": "stream",
     "text": [
      "INFO:model_approaches:Best model: Gradient Boosting with MAPE: 16.80%\n"
     ]
    },
    {
     "name": "stdout",
     "output_type": "stream",
     "text": [
      "\n",
      "Selected Best Model: Gradient Boosting\n",
      "MAPE: 16.80%\n",
      "MAE: 27620.84\n",
      "30-day forecast: $210,383.92\n"
     ]
    }
   ],
   "source": [
    "# Select best model and prepare for deployment\n",
    "modeler = TimeSeriesModelApproaches()\n",
    "best_model_name, best_model_result = modeler.select_best_model(results_all)\n",
    "\n",
    "print(f\"\\nSelected Best Model: {best_model_name}\")\n",
    "print(f\"MAPE: {best_model_result['mape']:.2%}\")\n",
    "print(f\"MAE: {best_model_result['mae']:.2f}\")\n",
    "print(f\"30-day forecast: ${best_model_result['forecast_30d_sum']:,.2f}\")"
   ]
  },
  {
   "cell_type": "code",
   "execution_count": 6,
   "id": "7",
   "metadata": {},
   "outputs": [
    {
     "ename": "FileNotFoundError",
     "evalue": "[Errno 2] No such file or directory: '../models/best_model_assignment02.pkl'",
     "output_type": "error",
     "traceback": [
      "\u001b[31m---------------------------------------------------------------------------\u001b[39m",
      "\u001b[31mFileNotFoundError\u001b[39m                         Traceback (most recent call last)",
      "\u001b[36mCell\u001b[39m\u001b[36m \u001b[39m\u001b[32mIn[6]\u001b[39m\u001b[32m, line 14\u001b[39m\n\u001b[32m      7\u001b[39m \u001b[38;5;66;03m# Save best model\u001b[39;00m\n\u001b[32m      8\u001b[39m model_data = {\n\u001b[32m      9\u001b[39m     \u001b[33m'\u001b[39m\u001b[33mbest_model_name\u001b[39m\u001b[33m'\u001b[39m: best_model_name,\n\u001b[32m     10\u001b[39m     \u001b[33m'\u001b[39m\u001b[33mbest_model_result\u001b[39m\u001b[33m'\u001b[39m: best_model_result,\n\u001b[32m     11\u001b[39m     \u001b[33m'\u001b[39m\u001b[33mmodel_comparison\u001b[39m\u001b[33m'\u001b[39m: comparison_all.to_dict()\n\u001b[32m     12\u001b[39m }\n\u001b[32m---> \u001b[39m\u001b[32m14\u001b[39m \u001b[38;5;28;01mwith\u001b[39;00m \u001b[38;5;28;43mopen\u001b[39;49m\u001b[43m(\u001b[49m\u001b[33;43m'\u001b[39;49m\u001b[33;43m../models/best_model_assignment02.pkl\u001b[39;49m\u001b[33;43m'\u001b[39;49m\u001b[43m,\u001b[49m\u001b[43m \u001b[49m\u001b[33;43m'\u001b[39;49m\u001b[33;43mwb\u001b[39;49m\u001b[33;43m'\u001b[39;49m\u001b[43m)\u001b[49m \u001b[38;5;28;01mas\u001b[39;00m f:\n\u001b[32m     15\u001b[39m     pickle.dump(model_data, f)\n\u001b[32m     17\u001b[39m \u001b[38;5;28mprint\u001b[39m(\u001b[33m\"\u001b[39m\u001b[33mModel results saved successfully!\u001b[39m\u001b[33m\"\u001b[39m)\n",
      "\u001b[36mFile \u001b[39m\u001b[32m~\\AppData\\Roaming\\Python\\Python313\\site-packages\\IPython\\core\\interactiveshell.py:326\u001b[39m, in \u001b[36m_modified_open\u001b[39m\u001b[34m(file, *args, **kwargs)\u001b[39m\n\u001b[32m    319\u001b[39m \u001b[38;5;28;01mif\u001b[39;00m file \u001b[38;5;129;01min\u001b[39;00m {\u001b[32m0\u001b[39m, \u001b[32m1\u001b[39m, \u001b[32m2\u001b[39m}:\n\u001b[32m    320\u001b[39m     \u001b[38;5;28;01mraise\u001b[39;00m \u001b[38;5;167;01mValueError\u001b[39;00m(\n\u001b[32m    321\u001b[39m         \u001b[33mf\u001b[39m\u001b[33m\"\u001b[39m\u001b[33mIPython won\u001b[39m\u001b[33m'\u001b[39m\u001b[33mt let you open fd=\u001b[39m\u001b[38;5;132;01m{\u001b[39;00mfile\u001b[38;5;132;01m}\u001b[39;00m\u001b[33m by default \u001b[39m\u001b[33m\"\u001b[39m\n\u001b[32m    322\u001b[39m         \u001b[33m\"\u001b[39m\u001b[33mas it is likely to crash IPython. If you know what you are doing, \u001b[39m\u001b[33m\"\u001b[39m\n\u001b[32m    323\u001b[39m         \u001b[33m\"\u001b[39m\u001b[33myou can use builtins\u001b[39m\u001b[33m'\u001b[39m\u001b[33m open.\u001b[39m\u001b[33m\"\u001b[39m\n\u001b[32m    324\u001b[39m     )\n\u001b[32m--> \u001b[39m\u001b[32m326\u001b[39m \u001b[38;5;28;01mreturn\u001b[39;00m \u001b[43mio_open\u001b[49m\u001b[43m(\u001b[49m\u001b[43mfile\u001b[49m\u001b[43m,\u001b[49m\u001b[43m \u001b[49m\u001b[43m*\u001b[49m\u001b[43margs\u001b[49m\u001b[43m,\u001b[49m\u001b[43m \u001b[49m\u001b[43m*\u001b[49m\u001b[43m*\u001b[49m\u001b[43mkwargs\u001b[49m\u001b[43m)\u001b[49m\n",
      "\u001b[31mFileNotFoundError\u001b[39m: [Errno 2] No such file or directory: '../models/best_model_assignment02.pkl'"
     ]
    }
   ],
   "source": [
    "# Save results and best model\n",
    "import pickle\n",
    "\n",
    "# Save model comparison results\n",
    "comparison_all.to_csv('../reports/model_comparison_results.csv', index=False)\n",
    "\n",
    "# Save best model\n",
    "model_data = {\n",
    "    'best_model_name': best_model_name,\n",
    "    'best_model_result': best_model_result,\n",
    "    'model_comparison': comparison_all.to_dict()\n",
    "}\n",
    "\n",
    "with open('../models/best_model_assignment02.pkl', 'wb') as f:\n",
    "    pickle.dump(model_data, f)\n",
    "\n",
    "print(\"Model results saved successfully!\")"
   ]
  },
  {
   "cell_type": "markdown",
   "id": "8",
   "metadata": {},
   "source": [
    "## Summary\n",
    "\n",
    "Assignment 02 completed successfully:\n",
    "- Compared 5 different modeling approaches\n",
    "- Selected best performing model based on MAPE\n",
    "- Prepared model for deployment in Assignment 03\n",
    "- Generated comprehensive comparison report"
   ]
  }
 ],
 "metadata": {
  "kernelspec": {
   "display_name": "Python 3",
   "language": "python",
   "name": "python3"
  },
  "language_info": {
   "codemirror_mode": {
    "name": "ipython",
    "version": 3
   },
   "file_extension": ".py",
   "mimetype": "text/x-python",
   "name": "python",
   "nbconvert_exporter": "python",
   "pygments_lexer": "ipython3",
   "version": "3.13.5"
  }
 },
 "nbformat": 4,
 "nbformat_minor": 5
}
